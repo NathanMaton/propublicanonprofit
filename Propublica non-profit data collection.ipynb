{
 "cells": [
  {
   "cell_type": "code",
   "execution_count": 1,
   "metadata": {},
   "outputs": [],
   "source": [
    "import pandas as pd\n",
    "import numpy as np\n",
    "import requests \n"
   ]
  },
  {
   "cell_type": "code",
   "execution_count": 12,
   "metadata": {},
   "outputs": [
    {
     "data": {
      "text/plain": [
       "200"
      ]
     },
     "execution_count": 12,
     "metadata": {},
     "output_type": "execute_result"
    }
   ],
   "source": [
    "#\n",
    "request = requests.get('https://projects.propublica.org/nonprofits/api/v2/search.json?'\n",
    "                       'ntee%5Bid%5D=2&c_code%5Bid%5D=3&state%5Bid%5D=CA')\n",
    "request.status_code"
   ]
  },
  {
   "cell_type": "code",
   "execution_count": 25,
   "metadata": {},
   "outputs": [],
   "source": [
    "r = request.json()\n",
    "\n",
    "df = pd.DataFrame(r['organizations'])"
   ]
  },
  {
   "cell_type": "code",
   "execution_count": 36,
   "metadata": {},
   "outputs": [
    {
     "data": {
      "text/html": [
       "<div>\n",
       "<style scoped>\n",
       "    .dataframe tbody tr th:only-of-type {\n",
       "        vertical-align: middle;\n",
       "    }\n",
       "\n",
       "    .dataframe tbody tr th {\n",
       "        vertical-align: top;\n",
       "    }\n",
       "\n",
       "    .dataframe thead th {\n",
       "        text-align: right;\n",
       "    }\n",
       "</style>\n",
       "<table border=\"1\" class=\"dataframe\">\n",
       "  <thead>\n",
       "    <tr style=\"text-align: right;\">\n",
       "      <th></th>\n",
       "      <th>city</th>\n",
       "      <th>ein</th>\n",
       "      <th>has_subseccd</th>\n",
       "      <th>have_extracts</th>\n",
       "      <th>have_filings</th>\n",
       "      <th>have_pdfs</th>\n",
       "      <th>name</th>\n",
       "      <th>ntee_code</th>\n",
       "      <th>raw_ntee_code</th>\n",
       "      <th>score</th>\n",
       "      <th>state</th>\n",
       "      <th>strein</th>\n",
       "      <th>sub_name</th>\n",
       "      <th>subseccd</th>\n",
       "    </tr>\n",
       "  </thead>\n",
       "  <tbody>\n",
       "    <tr>\n",
       "      <th>16</th>\n",
       "      <td>BRENTWOOD</td>\n",
       "      <td>205694677</td>\n",
       "      <td>True</td>\n",
       "      <td>None</td>\n",
       "      <td>None</td>\n",
       "      <td>None</td>\n",
       "      <td>A PLACE OF LEARNING</td>\n",
       "      <td>B20</td>\n",
       "      <td>B20</td>\n",
       "      <td>3.559427</td>\n",
       "      <td>CA</td>\n",
       "      <td>20-5694677</td>\n",
       "      <td>A PLACE OF LEARNING</td>\n",
       "      <td>3</td>\n",
       "    </tr>\n",
       "  </tbody>\n",
       "</table>\n",
       "</div>"
      ],
      "text/plain": [
       "         city        ein  has_subseccd have_extracts have_filings have_pdfs  \\\n",
       "16  BRENTWOOD  205694677          True          None         None      None   \n",
       "\n",
       "                   name ntee_code raw_ntee_code     score state      strein  \\\n",
       "16  A PLACE OF LEARNING       B20           B20  3.559427    CA  20-5694677   \n",
       "\n",
       "               sub_name  subseccd  \n",
       "16  A PLACE OF LEARNING         3  "
      ]
     },
     "execution_count": 36,
     "metadata": {},
     "output_type": "execute_result"
    }
   ],
   "source": [
    "#codes need J20-J30, not just J20\n",
    "#codes = ['A25', 'A6E', 'J20','J30','B20','B60']\n",
    "#df[df.ntee_code.isin(codes)]\n",
    "df[df['ntee_code']=='B20']"
   ]
  },
  {
   "cell_type": "code",
   "execution_count": null,
   "metadata": {},
   "outputs": [],
   "source": []
  }
 ],
 "metadata": {
  "kernelspec": {
   "display_name": "Python 3",
   "language": "python",
   "name": "python3"
  },
  "language_info": {
   "codemirror_mode": {
    "name": "ipython",
    "version": 3
   },
   "file_extension": ".py",
   "mimetype": "text/x-python",
   "name": "python",
   "nbconvert_exporter": "python",
   "pygments_lexer": "ipython3",
   "version": "3.7.1"
  }
 },
 "nbformat": 4,
 "nbformat_minor": 2
}
